{
 "cells": [
  {
   "cell_type": "markdown",
   "metadata": {},
   "source": [
    "# Алгоритмы интеллектуальной обработки больших объемов данных\n",
    "## Домашнее задание №2: Линейные модели\n"
   ]
  },
  {
   "cell_type": "markdown",
   "metadata": {},
   "source": [
    "###### <hr\\>\n",
    "**Общая информация**\n",
    "\n",
    "**Срок сдачи:** 5 ноября 2019, 06:00 <br\\>\n",
    "**Штраф за опоздание:** -2 балла после 06:00 5 ноября, -4 балла после 06:00 12 ноября, -6 баллов после 06:00 19 ноября  -8 баллов после 06:00 26 ноября.\n",
    "\n",
    "При отправлении ДЗ указывайте фамилию в названии файла Присылать ДЗ необходимо в виде ссылки на свой github репозиторий на почту ml1.sphere@mail.ru с указанием темы в следующем формате:\n",
    "[ML0919, Задание 2] Фамилия Имя.<br\\>\n",
    "\n",
    "Используйте данный Ipython Notebook при оформлении домашнего задания.\n",
    "\n",
    "**Штрафные баллы:**\n",
    "\n",
    "1. Невыполнение PEP8 -1 балл\n",
    "2. Отсутствие фамилии в имени скрипта (скрипт должен называться по аналогии со stroykova_hw2.ipynb) -1 балл\n",
    "3. Все строчки должны быть выполнены. Нужно, чтобы output команды можно было увидеть уже в git'е. В противном случае -1 балл\n",
    "4. При оформлении ДЗ нужно пользоваться данным файлом в качестве шаблона. Не нужно удалять и видоизменять написанный код и текст, если явно не указана такая возможность. В противном случае -1 балл\n",
    "<hr\\>"
   ]
  },
  {
   "cell_type": "code",
   "execution_count": 2,
   "metadata": {},
   "outputs": [],
   "source": [
    "import pandas as pd\n",
    "import numpy as np\n",
    "import matplotlib.pyplot as plt\n",
    "\n",
    "%matplotlib inline\n",
    "\n",
    "plt.style.use('ggplot')\n",
    "plt.rcParams['figure.figsize'] = (12,5)"
   ]
  },
  {
   "cell_type": "markdown",
   "metadata": {},
   "source": [
    "Здравствуйте, уважаемые студенты! \n",
    "\n",
    "В этом задании мы будем реализовать линейные модели. Необходимо реализовать линейную и логистическую регрессии с L2 регуляризацией"
   ]
  },
  {
   "cell_type": "markdown",
   "metadata": {},
   "source": [
    "# Теоретическое введение\n",
    "\n"
   ]
  },
  {
   "cell_type": "markdown",
   "metadata": {},
   "source": [
    "Линейная регрессия решает задачу регрессии и оптимизирует функцию потерь MSE \n",
    "\n",
    "$$L(w) =  \\frac{1}{N}\\left[\\sum_i (y_i - a_i) ^ 2 \\right], $$ где $y_i$ $-$ целевая функция,  $a_i = a(x_i) =  \\langle\\,x_i,w\\rangle ,$ $-$ предсказание алгоритма на объекте $x_i$, $w$ $-$ вектор весов (размерности $D$), $x_i$ $-$ вектор признаков (такой же размерности $D$).\n",
    "\n",
    "Не забываем, что здесь и далее  мы считаем, что в $x_i$ есть тождественный вектор единиц, ему соответствует вес $w_0$.\n"
   ]
  },
  {
   "cell_type": "markdown",
   "metadata": {},
   "source": [
    "Логистическая регрессия является линейным классификатором, который оптимизирует так называемый функционал log loss:"
   ]
  },
  {
   "cell_type": "markdown",
   "metadata": {},
   "source": [
    "$$L(w) = - \\frac{1}{N}\\left[\\sum_i y_i \\log a_i + ( 1 - y_i) \\log (1 - a_i) \\right],$$\n",
    "где  $y_i  \\in \\{0,1\\}$ $-$ метка класса, $a_i$ $-$ предсказание алгоритма на объекте $x_i$. Модель пытается предсказать апостериорую вероятность объекта принадлежать к классу \"1\":\n",
    "$$ p(y_i = 1 | x_i) = a(x_i) =  \\sigma( \\langle\\,x_i,w\\rangle ),$$\n",
    "$w$ $-$ вектор весов (размерности $D$), $x_i$ $-$ вектор признаков (такой же размерности $D$).\n",
    "\n",
    "Функция $\\sigma(x)$ $-$ нелинейная функция, пероводящее скалярное произведение объекта на веса в число $\\in (0,1)$ (мы же моделируем вероятность все-таки!)\n",
    "\n",
    "$$\\sigma(x) = \\frac{1}{1 + \\exp(-x)}$$\n",
    "\n",
    "Если внимательно посмотреть на функцию потерь, то можно заметить, что в зависимости от правильного ответа алгоритм штрафуется или функцией $-\\log a_i$, или функцией $-\\log (1 - a_i)$.\n",
    "\n"
   ]
  },
  {
   "cell_type": "markdown",
   "metadata": {},
   "source": [
    "Часто для решения проблем, которые так или иначе связаны с проблемой переобучения, в функционал качества добавляют слагаемое, которое называют ***регуляризацией***. Итоговый функционал для линейной регрессии тогда принимает вид:\n",
    "\n",
    "$$L(w) =  \\frac{1}{N}\\left[\\sum_i (y_i - a_i) ^ 2 \\right] + \\frac{1}{C}R(w) $$\n",
    "\n",
    "Для логистической: \n",
    "$$L(w) = - \\frac{1}{N}\\left[\\sum_i y_i \\log a_i + ( 1 - y_i) \\log (1 - a_i) \\right] +  \\frac{1}{C}R(w)$$\n",
    "\n",
    "Самое понятие регуляризации введено основателем ВМК академиком Тихоновым https://ru.wikipedia.org/wiki/Метод_регуляризации_Тихонова\n",
    "\n",
    "Идейно методика регуляризации заключается в следующем $-$ мы рассматриваем некорректно поставленную задачу (что это такое можно найти в интернете), для того чтобы сузить набор различных вариантов (лучшие из которых будут являться переобучением ) мы вводим дополнительные ограничения на множество искомых решений. На лекции Вы уже рассмотрели два варианта регуляризации.\n",
    "\n",
    "$L1$ регуляризация:\n",
    "$$R(w) = \\sum_{j=1}^{D}|w_j|$$\n",
    "$L2$ регуляризация:\n",
    "$$R(w) =  \\sum_{j=1}^{D}w_j^2$$\n",
    "\n",
    "С их помощью мы ограничиваем модель в  возможности выбора каких угодно весов минимизирующих наш лосс, модель уже не сможет подстроиться под данные как ей угодно. \n",
    "\n",
    "Вам нужно добавить соотвествущую Вашему варианту $L2$ регуляризацию.\n",
    "\n",
    "И так, мы поняли, какую функцию ошибки будем минимизировать, разобрались, как получить предсказания по объекту и обученным весам. Осталось разобраться, как получить оптимальные веса. Для этого нужно выбрать какой-то метод оптимизации.\n",
    "\n"
   ]
  },
  {
   "cell_type": "markdown",
   "metadata": {},
   "source": [
    "Градиентный спуск является самым популярным алгоритмом обучения линейных моделей. В этом задании Вам предложат реализовать стохастический градиентный спуск или  мини-батч градиентный спуск (мини-батч на русский язык довольно сложно перевести, многие переводят это как \"пакетный\", но мне не кажется этот перевод удачным). Далее нам потребуется определение **эпохи**.\n",
    "Эпохой в SGD и MB-GD называется один проход по **всем** объектам в обучающей выборки.\n",
    "* В SGD градиент расчитывается по одному случайному объекту. Сам алгоритм выглядит примерно так:\n",
    "        1) Перемешать выборку\n",
    "        2) Посчитать градиент функции потерь на одном объекте (далее один объект тоже будем называть батчем)\n",
    "        3) Сделать шаг спуска\n",
    "        4) Повторять 2) и 3) пока не пройдет максимальное число эпох.\n",
    "* В Mini Batch SGD - по подвыборке объектов. Сам алгоритм выглядит примерно так::\n",
    "        1) Перемешать выборку, выбрать размер мини-батча (от 1 до размера выборки)\n",
    "        2) Почитать градиент функции потерь по мини-батчу (не забыть поделить на  число объектов в мини-батче)\n",
    "        3) Сделать шаг спуска\n",
    "        4) Повторять 2) и 3) пока не пройдет максимальное число эпох.\n",
    "* Для отладки алгоритма реализуйте возможность  вывода средней ошибки на обучении модели по объектам (мини-батчам). После шага градиентного спуска посчитайте значение ошибки на объекте (или мини-батче), а затем усредните, например, по ста шагам. Если обучение проходит корректно, то мы должны увидеть, что каждые 100 шагов функция потерь уменьшается. \n",
    "* Правило останова - максимальное количество эпох\n",
    "    \n"
   ]
  },
  {
   "cell_type": "markdown",
   "metadata": {},
   "source": [
    "# Теоретические вопросы (2 балла)\n",
    "В этой части Вам будут предложены теоретичские вопросы и задачи по теме. Вы, конечно, можете списать их у своего товарища или найти решение в интернете, но учтите, что они обязательно войдут в теоретический коллоквиум. Лучше разобраться в теме сейчас и успешно ответить на коллоквиуме, чем списать, не разобравшись в материале, и быть терзаемым совестью. \n",
    "\n",
    "\n",
    "Формулы надо оформлять в формате **LaTeX**."
   ]
  },
  {
   "cell_type": "markdown",
   "metadata": {},
   "source": [
    "Задача 1. Градиент для линейной регрессии.\n",
    "* Выпишите формулу обновления весов для линейной регрессии с L2 регуляризацией для мини-батч градиентого спуска размера $n$:\n",
    "\n",
    "$$ w_{new} = w_{old} - ... $$\n",
    "\n",
    " Отнеситесь к этому пункту максимально серьезно, это Вам нужно будет реализовать в задании.\n",
    " \n",
    "Проанализруйте итоговую формулу градиента - как  интуитивно можно  описать, чему равен градиент?"
   ]
  },
  {
   "cell_type": "markdown",
   "metadata": {},
   "source": [
    "$$w_{new} = w_{old} - \\alpha \\nabla_{w} Q(w_{old}) = w_{old} - 2\\alpha\\left[  \\frac{w_{old}}{C} - \\frac{1}{N}\\sum_{i=1}^{N} (y_i - x_i w_i)x_i \\right]$$"
   ]
  },
  {
   "cell_type": "markdown",
   "metadata": {},
   "source": [
    "Задача 2. Градиент для логистической регрессии.\n",
    "* Выпишите формулу обновления весов для логистической регрессии с L2 регуляризацией  для мини-батч градиентого спуска размера $n$:\n",
    "\n",
    "$$ w_{new} = w_{old} - ... $$\n",
    "\n",
    " Отнеситесь к этому пункту максимально серьезно, это Вам нужно будет реализовать в задании.\n",
    " \n",
    "Проанализруйте итоговую формулу градиента - как  интуитивно можно  описать, чему равен градиент? Как соотносится этот градиент с градиентом, возникающий в задаче линейной регрессии?\n",
    "\n",
    "Подсказка: Вам градиент, которой получается если “в лоб” продифференцировать,  надо немного преобразовать.\n",
    "Надо подставить, что $1 - \\sigma(w,x) $ это  $1 - a(x_i)$, а  $-\\sigma(w,x)$ это $0 - a(x_i)$.  Тогда получится свести к одной красивой формуле с линейной регрессией, которую программировать будет намного проще."
   ]
  },
  {
   "cell_type": "markdown",
   "metadata": {},
   "source": [
    "$$w_{new} = w_{old} - \\alpha \\nabla_{w} Q(w_{old}) = w_{old} - \\alpha\\left[ \\frac{1}{N\\ln2} \\sum_{i=1}^{N}\\frac{x_i y_i + (y-1)x_i y_i e^{x_i w_{old}}}{1 + e^{x_i w_{old}}} + 2\\frac{w_{old}}{C}\\right]=$$\n",
    "$$=w_{old} - \\alpha\\left[\\frac{1}{N\\ln2}\\sum_{i=1}^{N}(y_i-a(x_i))x_i + 2\\frac{w_{old}}{C}\\right]$$"
   ]
  },
  {
   "cell_type": "markdown",
   "metadata": {},
   "source": [
    "Задача 3. Точное решение линейной регрессии\n",
    "\n",
    "На лекции было показано, что точное решение линейной регрессии имеет вид $w = (X^TX)^{-1}X^TY $. \n",
    "* Покажите, что это действительно является точкой минимума в случае, если матрица X имеет строк не меньше, чем столбцов и имеет полный ранг. Подсказка: посчитайте Гессиан и покажите, что в этом случае он положительно определен. \n",
    "* Выпишите точное решение для модели с $L2$ регуляризацией. Как L2 регуляризация помогает с точным решением где матрица X имеет линейно зависимые признаки?"
   ]
  },
  {
   "cell_type": "markdown",
   "metadata": {},
   "source": [
    "Решение:\n",
    "\n",
    "1) Итак, запишем Гессиан :\n",
    "$$H(f(w)) = \\begin{equation*}\n",
    "\\left(\n",
    "\\begin{array}{cccc}\n",
    "\\frac{\\partial^2 f(x)}{\\partial w_0^2} & \\frac{\\partial^2 f(x)}{\\partial w_{0}\\partial w_1} & \\ldots & \\frac{\\partial^2 f(x)}{\\partial w_{0}\\partial w_D}\\\\\n",
    "\\frac{\\partial^2 f(x)}{\\partial w_1\\partial w_0} & \\frac{\\partial^2 f(x)}{\\partial w_1^2} & \\ldots & \\frac{\\partial^2 f(x)}{\\partial w_{1}\\partial w_D}\\\\\n",
    "\\vdots & \\vdots & \\ddots & \\vdots\\\\\n",
    "\\frac{\\partial^2 f(x)}{\\partial w_D\\partial w_0} & \\frac{\\partial^2 f(x)}{\\partial w_D\\partial w_1} & \\ldots & \\frac{\\partial^2 f(x)}{\\partial w_D^2}\n",
    "\\end{array}\n",
    "\\right)\n",
    "\\end{equation*}$$\n",
    "\n",
    "И наше уравнение $f(w) = \\frac{1}{N}\\left( w^TX^TXw - w^TX^Ty - y^TXw +y^Ty\\right)$ Тогда итоговый Гессиан будет выглядеть как:\n",
    "\n",
    "\n",
    "$$H(f(w)) = \\begin{equation*}\n",
    "\\left(\n",
    "\\begin{array}{cccc}\n",
    "\\frac{2}{N}x_0^Tx_0 & \\frac{2}{N}x_0^Tx_1 & \\ldots & \\frac{2}{N}x_0^Tx_D\\\\\n",
    "\\frac{2}{N}x_0^Tx_1 & \\frac{2}{N}x_1^Tx_1 & \\ldots & \\frac{2}{N}x_1^Tx_D\\\\\n",
    "\\vdots & \\vdots & \\ddots & \\vdots\\\\\n",
    "\\frac{2}{N}x_D^Tx_0 & \\frac{2}{N}x_D^Tx_1 & \\ldots & \\frac{2}{N}x_D^Tx_D\n",
    "\\end{array}\n",
    "\\right)\n",
    "\\end{equation*} = \\frac{2}{N}X^TX$$\n",
    "\n",
    "А, значит, мы нашли очевидную невырожденную матрицу, чей квадрат равен нашему Гессиану и по теореме линейной алгебры положительно определен\n",
    "\n",
    "2) Запишем результат с L2 регуляризацией:\n",
    "\n",
    "$$\\nabla_w{f(w)} = \\nabla_w\\left[{\\frac{1}{N}\\left( w^TX^TXw - w^TX^Ty - y^TXw +y^Ty\\right) + \\frac{R(w)}{C}}\\right]=$$\n",
    "$$=(X^TX + X^TX)w-2X^Ty + 2\\frac{w}{C}=0$$\n",
    "$$\\Rightarrow w = (X^TX - \\frac{I}{C})^{-1}X^Ty$$"
   ]
  },
  {
   "cell_type": "markdown",
   "metadata": {},
   "source": [
    "Задача 4.  Предсказываем вероятности.\n",
    "\n",
    "Когда говорят о логистической регрессии, произносят фразу, что она \"предсказывает вероятности положительного класса\". Давайте разберемся, что же за этим стоит. Посчитаем математическое ожидание функции потерь и проверим, что предсказание алгоритма, оптимизирующее это мат. ожидание, будет являться вероятностью положительного класса. \n",
    "\n",
    "И так, функция потерь на объекте $x_i$, который имеет метку $y_i \\in \\{0,1\\}$  для предсказания $a(x_i)$ равна:\n",
    "$$L(y_i, b) =-[y_i == 1] \\log a(x_i)  - [y_i == 0] \\log(1 - a(x_i)) $$\n",
    "\n",
    "Где $[]$ означает индикатор $-$ он равен единице, если значение внутри него истинно, иначе он равен нулю. Тогда мат. ожидание при условии конкретного $x_i$  по определение мат. ожидания дискретной случайной величины:\n",
    "$$E(L | x_i) = -p(y_i = 1 |x_i ) \\log a(x_i)  - p(y_i = 0 | x_i) \\log( 1 - a(x_i))$$\n",
    "* Докажите, что значение $a(x_i)$, минимизирующее данное мат. ожидание, в точности равно $p(y_i = 1 |x_i)$, то есть равно вероятности положительного класса.\n",
    "\n",
    "Подсказка: возможно, придется воспользоваться, что  $p(y_i = 1 | x_i) + p(y_i = 0 | x_i) = 1$"
   ]
  },
  {
   "cell_type": "markdown",
   "metadata": {},
   "source": [
    "Решение: \n",
    "\n",
    "1) посчитаем производную по $a(x_i)$ у мат ожидания:\n",
    "\n",
    "$$\\frac{\\partial E(L|x_i)}{\\partial a(x_i)} = \\left[\\frac{-p(y_i = 1 |x_i )}{a(x_i)} + \\frac {p(y_i = 0 | x_i)}{1 - a(x_i)}\\right]\\frac{1}{\\ln2} = \\left[\\frac{-p(y_i = 1 |x_i ) + a(x_i)(p(y_i = 0 | x_i) + p(y_i = 1 | x_i))}{a(x_i) (1 - a(x_i))}\\right]\\frac{1}{\\ln2} = 0$$\n",
    "\n",
    "$$\\Rightarrow a(x_i) = p(y_i = 1 |x_i )$$"
   ]
  },
  {
   "cell_type": "markdown",
   "metadata": {},
   "source": [
    "Задача 5.  Смысл регуляризации.\n",
    "\n",
    "Нужно ли в L1/L2 регуляризации использовать свободный член $w_0$ (который не умножается ни на какой признак)?\n",
    "\n",
    "Подсказка: подумайте, для чего мы вводим $w_0$"
   ]
  },
  {
   "cell_type": "markdown",
   "metadata": {},
   "source": [
    "***Решение***\n",
    "\n",
    "Итак, мы вводим нулевой вес(вектор $w_0$), чтобы отсечь тот случай, когда значение всей функции равно нулю, те признаки ~0. $\\Rightarrow$ при регуляризации свободного члена мы получим, что наш алгоритм будет работать хорошо, только если объекты сконцентрированы в окрестности нуля, что не правда для общего случая. Тогда не нужно"
   ]
  },
  {
   "cell_type": "markdown",
   "metadata": {},
   "source": [
    "#  Реализация линейной модели (5 баллов)"
   ]
  },
  {
   "cell_type": "markdown",
   "metadata": {},
   "source": [
    "## Зачем нужны батчи?\n"
   ]
  },
  {
   "cell_type": "markdown",
   "metadata": {},
   "source": [
    "Как Вы могли заметить из теоретического введения, что в случае SGD, что в случа mini-batch GD,  на каждой итерации обновление весов  происходит только по небольшой части данных (1 пример в случае SGD, batch примеров в случае mini-batch). То есть для каждой итерации нам *** не нужна вся выборка***. Мы можем просто итерироваться по выборке, беря батч нужного размера (далее 1 объект тоже будем называть батчом).\n",
    "\n",
    "Легко заметить, что в этом случае нам не нужно загружать все данные в оперативную память, достаточно просто считать батч с диска, обновить веса, считать диска другой батч и так далее. В целях упрощения домашней работы, прямо с диска  мы считывать не будем, будем работать с обычными numpy array. \n",
    "\n",
    "\n",
    "\n"
   ]
  },
  {
   "cell_type": "markdown",
   "metadata": {},
   "source": [
    "## Немножко про генераторы в Python\n",
    "\n"
   ]
  },
  {
   "cell_type": "markdown",
   "metadata": {},
   "source": [
    "Идея считывания данных кусками удачно ложится на так называемые ***генераторы*** из языка Python. В данной работе Вам предлагается не только разобраться с логистической регрессией, но  и познакомиться с таким важным элементом языка.  При желании Вы можете убрать весь код, связанный с генераторами, и реализовать логистическую регрессию и без них, ***штрафоваться это никак не будет***. Главное, чтобы сама модель была реализована правильно, и все пункты были выполнены. \n",
    "\n",
    "Подробнее можно почитать вот тут https://anandology.com/python-practice-book/iterators.html\n"
   ]
  },
  {
   "cell_type": "markdown",
   "metadata": {},
   "source": [
    "К генератору стоит относиться просто как к функции, которая порождает не один объект, а целую последовательность объектов. Новое значение из последовательности генерируется с помощью ключевого слова ***yield***. Ниже Вы можете насладиться  генератором чисел Фибоначчи."
   ]
  },
  {
   "cell_type": "code",
   "execution_count": 6,
   "metadata": {},
   "outputs": [],
   "source": [
    "def fib(max_iter=4):\n",
    "    a, b = 0, 1\n",
    "    iter_num = 0\n",
    "    while 1:\n",
    "        yield a\n",
    "        a, b = b, a + b\n",
    "        iter_num += 1\n",
    "        if iter_num == max_iter:\n",
    "            break"
   ]
  },
  {
   "cell_type": "markdown",
   "metadata": {},
   "source": [
    "Вот так можно сгенерировать последовательность Фибоначчи. \n",
    "\n",
    "Заметьте, что к генераторам можно применять некоторые стандартные функции из Python, например enumerate."
   ]
  },
  {
   "cell_type": "code",
   "execution_count": 7,
   "metadata": {},
   "outputs": [
    {
     "name": "stdout",
     "output_type": "stream",
     "text": [
      "Fib num: 0 fib values: 0\n",
      "Fib num: 1 fib values: 1\n",
      "Fib num: 2 fib values: 1\n",
      "Fib num: 3 fib values: 2\n"
     ]
    }
   ],
   "source": [
    "new_generator = fib()\n",
    "for j, fib_val in enumerate(new_generator):\n",
    "    print (\"Fib num: \" + str(j) + \" fib values: \" + str(fib_val))"
   ]
  },
  {
   "cell_type": "markdown",
   "metadata": {},
   "source": [
    "Пересоздавая объект, можно сколько угодно раз генерировать заново последовательность. "
   ]
  },
  {
   "cell_type": "code",
   "execution_count": 8,
   "metadata": {},
   "outputs": [
    {
     "name": "stdout",
     "output_type": "stream",
     "text": [
      "Fib num: 0 fib values: 0\n",
      "Fib num: 1 fib values: 1\n",
      "Fib num: 2 fib values: 1\n",
      "Fib num: 3 fib values: 2\n",
      "Fib num: 0 fib values: 0\n",
      "Fib num: 1 fib values: 1\n",
      "Fib num: 2 fib values: 1\n",
      "Fib num: 3 fib values: 2\n",
      "Fib num: 0 fib values: 0\n",
      "Fib num: 1 fib values: 1\n",
      "Fib num: 2 fib values: 1\n",
      "Fib num: 3 fib values: 2\n"
     ]
    }
   ],
   "source": [
    "for i in range(0, 3):\n",
    "    new_generator = fib()\n",
    "    for j, fib_val in enumerate(new_generator):\n",
    "        print (\"Fib num: \" + str(j) + \" fib values: \" + str(fib_val))"
   ]
  },
  {
   "cell_type": "markdown",
   "metadata": {},
   "source": [
    "А вот так уже нельзя."
   ]
  },
  {
   "cell_type": "code",
   "execution_count": 9,
   "metadata": {},
   "outputs": [
    {
     "name": "stdout",
     "output_type": "stream",
     "text": [
      "Fib num: 0 fib values: 0\n",
      "Fib num: 1 fib values: 1\n",
      "Fib num: 2 fib values: 1\n",
      "Fib num: 3 fib values: 2\n"
     ]
    }
   ],
   "source": [
    "new_generator = fib()\n",
    "for i in range(0, 3):\n",
    "    for j, fib_val in enumerate(new_generator):\n",
    "        print (\"Fib num: \" + str(j) + \" fib values: \" + str(fib_val))"
   ]
  },
  {
   "cell_type": "markdown",
   "metadata": {},
   "source": [
    "Концепция крайне удобная для обучения  моделей $-$ у Вас есть некий источник данных, который Вам выдает их кусками, и Вам совершенно все равно откуда он их берет. Под ним может скрывать как массив в оперативной памяти, как файл на жестком диске, так и SQL база данных. Вы сами данные никуда не сохраняете, оперативную память экономите."
   ]
  },
  {
   "cell_type": "markdown",
   "metadata": {},
   "source": [
    "Если Вам понравилась идея с генераторами, то Вы можете реализовать свой, используя прототип batch_generator. В нем Вам нужно выдавать батчи признаков и ответов для каждой новой итерации спуска. Если не понравилась идея, то можете реализовывать SGD или mini-batch GD без генераторов."
   ]
  },
  {
   "cell_type": "code",
   "execution_count": 3,
   "metadata": {},
   "outputs": [],
   "source": [
    "import sklearn as sklearn"
   ]
  },
  {
   "cell_type": "code",
   "execution_count": 10,
   "metadata": {},
   "outputs": [
    {
     "data": {
      "text/plain": [
       "'\\n    Гератор новых батчей для обучения\\n    X          - матрица объекты-признаки\\n    y_batch    - вектор ответов\\n    shuffle    - нужно ли случайно перемешивать выборку\\n    batch_size - размер батча ( 1 это SGD, > 1 mini-batch GD)\\n    Генерирует подвыборку для итерации спуска (X_batch, y_batch)\\n'"
      ]
     },
     "execution_count": 10,
     "metadata": {},
     "output_type": "execute_result"
    }
   ],
   "source": [
    "def batch_generator(X, y, shuffle=True, batch_size=1):\n",
    "    if shuffle == True:\n",
    "        X, y = sklearn.utils.shuffle(X, y)\n",
    "    n = y.shape[0]\n",
    "    for i in range(0, n, batch_size):\n",
    "        X_batch = np.array(X[i:(i + batch_size)], dtype='float')\n",
    "        y_batch = np.array(y[i:(i + batch_size)], dtype='float')\n",
    "        yield (X_batch, y_batch)\n",
    "        \n",
    "\"\"\"\n",
    "    Гератор новых батчей для обучения\n",
    "    X          - матрица объекты-признаки\n",
    "    y_batch    - вектор ответов\n",
    "    shuffle    - нужно ли случайно перемешивать выборку\n",
    "    batch_size - размер батча ( 1 это SGD, > 1 mini-batch GD)\n",
    "    Генерирует подвыборку для итерации спуска (X_batch, y_batch)\n",
    "\"\"\""
   ]
  },
  {
   "cell_type": "code",
   "execution_count": 144,
   "metadata": {},
   "outputs": [],
   "source": [
    "#%%pycodestyle\n",
    "from math import exp\n",
    "def sigmoid(x):\n",
    "    \"\"\"\n",
    "    Вычисляем значение сигмоида.\n",
    "    X - выход линейной модели\n",
    "    \"\"\"\n",
    "    sigm_value_x = 1/(1 + np.exp(-x))\n",
    "    return sigm_value_x\n",
    "\n",
    "def my_log(x):\n",
    "    x = np.where(x<=0.1, x + 0.001, x)\n",
    "    x = np.where(x==1, x + 0.001, x)\n",
    "    ans = np.log2(x)\n",
    "    #print(x,ans, sep='__')\n",
    "    return ans\n",
    "\n",
    "\n",
    "from sklearn.base import BaseEstimator, ClassifierMixin\n",
    "\n",
    "class MySGDClassifier(BaseEstimator, ClassifierMixin):\n",
    "    def __init__(self, batch_generator, C=1, alpha=0.1, max_epoch=10, batch_size=1, model_type='lin_reg'):\n",
    "        \"\"\"\n",
    "        batch_generator -- функция генератор, которой будем создавать батчи\n",
    "        C - коэф. регуляризации\n",
    "        alpha - скорость спуска\n",
    "        max_epoch - максимальное количество эпох\n",
    "        model_type - тим модели, lin_reg или log_reg\n",
    "        \"\"\"\n",
    "        self.C = C\n",
    "        self.alpha = alpha\n",
    "        self.max_epoch = max_epoch\n",
    "        self.batch_generator = batch_generator\n",
    "        self.errors_log = {'iter': [], 'loss': []}\n",
    "        self.model_type = model_type\n",
    "        self.batch_size = batch_size\n",
    "        \n",
    "    def calc_loss(self, X_batch, y_batch):\n",
    "        \"\"\"\n",
    "        Считаем функцию потерь по батчу \n",
    "        X_batch - матрица объекты-признаки по батчу\n",
    "        y_batch - вектор ответов по батчу\n",
    "        Не забудте тип модели (линейная или логистическая регрессия)!\n",
    "        \"\"\"\n",
    "        #tmp1 = X_batch.shape[0]\n",
    "        L2_reg = np.sum(self.weights * self.weights) / self.C\n",
    "        alg_predict = np.dot(X_batch, self.weights)\n",
    "        if self.model_type != 'lin_reg':\n",
    "            loss = -np.sum((1-y_batch) * my_log(1 - sigmoid(alg_predict))+y_batch*my_log(sigmoid(alg_predict)))/X_batch.shape[0]\n",
    "            loss += L2_reg  \n",
    "        else:\n",
    "            loss = np.sum((y_batch - alg_predict)**2) / X_batch.shape[0]\n",
    "            loss += L2_reg\n",
    "        return loss\n",
    "    \n",
    "    def calc_loss_grad(self, X_batch, y_batch):\n",
    "        \"\"\"\n",
    "        Считаем  градиент функции потерь по батчу (то что Вы вывели в задании 1)\n",
    "        X_batch - матрица объекты-признаки по батчу\n",
    "        y_batch - вектор ответов по батчу\n",
    "        Не забудте тип модели (линейная или логистическая регрессия)!\n",
    "        \"\"\"\n",
    "        N = X_batch.shape[0]\n",
    "        L2_reg = self.weights / self.C\n",
    "        alg_predict = np.dot(X_batch, self.weights)\n",
    "        #print(alg_predict)\n",
    "        #alg_predict = alg_predict.reshape(1, -1)\n",
    "        if self.model_type != 'lin_reg':\n",
    "            loss_grad = np.dot(sigmoid(alg_predict) -y_batch, X_batch) / N / np.log(2)\n",
    "            loss_grad += 2 * L2_reg\n",
    "        else:\n",
    "            loss_grad = np.dot(alg_predict - y_batch, X_batch) / N\n",
    "            loss_grad += L2_reg\n",
    "        return loss_grad\n",
    "    \n",
    "    def update_weights(self, new_grad):\n",
    "        \"\"\"\n",
    "        Обновляем вектор весов\n",
    "        new_grad - градиент по батчу\n",
    "        \"\"\"\n",
    "        self.weights = self.weights - self.alpha * new_grad\n",
    "    \n",
    "    def fit(self, X, y):\n",
    "        '''\n",
    "        Обучение модели\n",
    "        X - матрица объекты-признаки\n",
    "        y - вектор ответов\n",
    "        '''\n",
    "        X = np.array(X, dtype=np.float64)\n",
    "        X = np.hstack((np.ones((X.shape[0], 1)), X))\n",
    "        # Нужно инициализровать случайно веса\n",
    "        np.random.seed(42)\n",
    "        self.weights = np.random.uniform(0, 42, size=X.shape[1]).astype(np.float64)\n",
    "        for n in range(0, self.max_epoch):\n",
    "            new_epoch_generator = self.batch_generator(X, y, batch_size=self.batch_size)\n",
    "            for batch_num, new_batch in enumerate(new_epoch_generator):\n",
    "                X_batch = new_batch[0]\n",
    "                y_batch = new_batch[1]\n",
    "                batch_loss = self.calc_loss(X_batch, y_batch)\n",
    "                batch_grad = self.calc_loss_grad(X_batch, y_batch)\n",
    "                self.update_weights(batch_grad)\n",
    "                # Подумайте в каком месте стоит посчитать ошибку для отладки модели\n",
    "                # До градиентного шага или после\n",
    "                # batch_loss = self.calc_loss(X_batch, y_batch)\n",
    "                self.errors_log['iter'].append(batch_num)\n",
    "                self.errors_log['loss'].append(batch_loss)\n",
    "                \n",
    "        return self\n",
    "        \n",
    "    def predict(self, X):\n",
    "        '''\n",
    "        Предсказание класса\n",
    "        X - матрица объекты-признаки\n",
    "        Не забудте тип модели (линейная или логистическая регрессия)!\n",
    "        '''\n",
    "        x = np.c_[np.ones(X.shape[0]), X]\n",
    "        if self.model_type == 'lin_reg':\n",
    "            y_hat = np.dot(x, self.weights)\n",
    "        else:\n",
    "            y_hat = sigmoid(np.dot(x, self.weights))\n",
    "        return y_hat"
   ]
  },
  {
   "cell_type": "markdown",
   "metadata": {},
   "source": [
    "Запустите обе регрессии на синтетических данных. \n",
    "\n",
    "\n",
    "Выведите полученные веса и нарисуйте разделяющую границу между классами (используйте только первых два веса для первых двух признаков X[:,0], X[:,1] для отображения в 2d пространство ).  "
   ]
  },
  {
   "cell_type": "code",
   "execution_count": 119,
   "metadata": {},
   "outputs": [],
   "source": [
    "def plot_decision_boundary(weights, color = \"black\"):\n",
    "    l = np.linspace(-3, 8)\n",
    "    plt.plot(l, -(weights[0] + weights[1] * l) / weights[2], color = color)"
   ]
  },
  {
   "cell_type": "code",
   "execution_count": 120,
   "metadata": {},
   "outputs": [
    {
     "data": {
      "text/plain": [
       "<matplotlib.collections.PathCollection at 0x7f644a197b00>"
      ]
     },
     "execution_count": 120,
     "metadata": {},
     "output_type": "execute_result"
    },
    {
     "data": {
      "image/png": "[encoded data removed]",
      "text/plain": [
       "<Figure size 864x360 with 1 Axes>"
      ]
     },
     "metadata": {},
     "output_type": "display_data"
    }
   ],
   "source": [
    "np.random.seed(0)\n",
    "\n",
    "C1 = np.array([[0., -0.8], [1.5, 0.8]])\n",
    "C2 = np.array([[1., -0.7], [2., 0.7]])\n",
    "gauss1 = np.dot(np.random.randn(200, 2) + np.array([5, 3]), C1)\n",
    "gauss2 = np.dot(np.random.randn(200, 2) + np.array([1.5, 0]), C2)\n",
    "\n",
    "X = np.vstack([gauss1, gauss2])\n",
    "y = np.r_[np.ones(200), np.zeros(200)]\n",
    "\n",
    "#log_reg = MySGDClassifier(batch_generator, max_epoch=100, C=200, model_type='log_reg')\n",
    "#log_reg.fit(X, y)\n",
    "\n",
    "#plot_decision_boundary(log_reg.weights)\n",
    "\n",
    "my_lin_reg = MySGDClassifier(batch_generator, alpha=0.01, max_epoch=100, C=200, model_type='log_reg')\n",
    "my_lin_reg.fit(X, y)\n",
    "#X.append(np.ones())\n",
    "clf = SGDClassifier(loss='log').fit(X, y)\n",
    "\n",
    "plot_decision_boundary(my_lin_reg.weights, color = \"blue\")\n",
    "x = np.linspace(-3, 8)\n",
    "k = ((clf.coef_[0][0]) * x)/-clf.coef_[0][1]\n",
    "line2, = plt.plot(x, k, '-r', label='sklearn')\n",
    "\n",
    "plt.scatter(X[:,0], X[:,1], c=y)\n",
    "\n",
    "plt.scatter(X[:,0], X[:,1], c=y)"
   ]
  },
  {
   "cell_type": "markdown",
   "metadata": {},
   "source": [
    "Далее будем анализировать Ваш алгоритм. \n",
    "Для этих заданий используйте датасет ниже."
   ]
  },
  {
   "cell_type": "code",
   "execution_count": 101,
   "metadata": {},
   "outputs": [],
   "source": [
    "from sklearn.datasets import make_classification"
   ]
  },
  {
   "cell_type": "code",
   "execution_count": 12,
   "metadata": {},
   "outputs": [],
   "source": [
    "X, y = make_classification(n_samples=100000, n_features=10, \n",
    "                           n_informative=4, n_redundant=0, \n",
    "                           random_state=123, class_sep=1.0,\n",
    "                           n_clusters_per_class=1)"
   ]
  },
  {
   "cell_type": "markdown",
   "metadata": {},
   "source": [
    "Покажите сходимости обеих регрессией на этом датасете: изобразите график  функции потерь, усредненной по $N$ шагам градиентого спуска, для разных `alpha` (размеров шага). Разные `alpha` расположите на одном графике. \n",
    "\n",
    "$N$ можно брать 10, 50, 100 и т.д. "
   ]
  },
  {
   "cell_type": "code",
   "execution_count": 42,
   "metadata": {},
   "outputs": [
    {
     "data": {
      "image/png": "[encoded data removed]",
      "text/plain": [
       "<Figure size 1080x576 with 1 Axes>"
      ]
     },
     "metadata": {},
     "output_type": "display_data"
    }
   ],
   "source": [
    "## Your Code Here\n",
    "plt.figure(figsize=(15, 8))\n",
    "aplha_arr = [0.0001, 0.001, 0.01, 0.05]\n",
    "N = 200\n",
    "for alpha in aplha_arr:\n",
    "    log_reg = MySGDClassifier(alpha=alpha, batch_generator=batch_generator,max_epoch=10, C=100,batch_size=1, model_type='log_reg')\n",
    "    log_reg.fit(X, y)\n",
    "    steps = len(log_reg.errors_log['loss']) // N\n",
    "    losses = []\n",
    "    for i in range(steps):\n",
    "        losses.append(np.sum(log_reg.errors_log['loss'][i * N :N*(i + 1)]) / N)\n",
    "    plt.plot(np.arange(len(losses)), losses, label='alpha = {}'.format(alpha))\n",
    "plt.xlabel('Steps')\n",
    "plt.ylabel('Loss')\n",
    "plt.legend()\n",
    "plt.show()"
   ]
  },
  {
   "cell_type": "code",
   "execution_count": 43,
   "metadata": {},
   "outputs": [
    {
     "data": {
      "image/png": "[encoded data removed]",
      "text/plain": [
       "<Figure size 1080x576 with 1 Axes>"
      ]
     },
     "metadata": {},
     "output_type": "display_data"
    }
   ],
   "source": [
    "## Your Code Here\n",
    "plt.figure(figsize=(15, 8))\n",
    "aplha_arr = [0.0001, 0.001, 0.01, 0.05]\n",
    "N = 200\n",
    "for alpha in aplha_arr:\n",
    "    lin_reg = MySGDClassifier(alpha=alpha, batch_generator=batch_generator,max_epoch=10, C=100,batch_size=1, model_type='lin_reg')\n",
    "    lin_reg.fit(X, y)\n",
    "    steps = len(lin_reg.errors_log['loss']) // N\n",
    "    losses = []\n",
    "    for i in range(steps):\n",
    "        losses.append(np.sum(lin_reg.errors_log['loss'][i * N :N*(i + 1)]) / N)\n",
    "    plt.plot(np.arange(len(losses)), losses, label='alpha = {}'.format(alpha))\n",
    "plt.xlabel('Steps')\n",
    "plt.ylabel('Loss')\n",
    "plt.legend()\n",
    "plt.show()"
   ]
  },
  {
   "cell_type": "markdown",
   "metadata": {},
   "source": [
    "Что Вы можете сказать про сходимость метода при различных `alpha`? Какое значение стоит выбирать для лучшей сходимости?"
   ]
  },
  {
   "cell_type": "markdown",
   "metadata": {},
   "source": [
    "Изобразите график среднего значения весов для обеих регрессий в зависимости от коеф. регуляризации С из `np.logspace(3, -3, 10)` "
   ]
  },
  {
   "cell_type": "code",
   "execution_count": 45,
   "metadata": {},
   "outputs": [
    {
     "data": {
      "image/png": "[encoded data removed]",
      "text/plain": [
       "<Figure size 864x360 with 1 Axes>"
      ]
     },
     "metadata": {},
     "output_type": "display_data"
    }
   ],
   "source": [
    "C = np.logspace(3, -3, 10)\n",
    "my_res = []\n",
    "for c in C:\n",
    "    log_reg = MySGDClassifier(batch_generator=batch_generator, max_epoch=1, \n",
    "                              C=c, alpha=0.0001, batch_size=100, model_type='log_reg')\n",
    "    log_reg.fit(X, y)\n",
    "    my_res.append(np.mean(log_reg.weights))\n",
    "plt.plot(range(len(my_res)), my_res)\n",
    "plt.show()"
   ]
  },
  {
   "cell_type": "markdown",
   "metadata": {},
   "source": [
    "Довольны ли Вы, насколько сильно уменьшились Ваши веса? "
   ]
  },
  {
   "cell_type": "markdown",
   "metadata": {},
   "source": [
    "# Боевое применение (3  балла)"
   ]
  },
  {
   "cell_type": "markdown",
   "metadata": {},
   "source": [
    "Давайте применим модель на итоговом проекте! Датасет сделаем точно таким же образом, как было показано в project_overview.ipynb\n",
    "\n",
    "Применим обе регрессии, подберем для них параметры и сравним качество. Может быть Вы еще одновременно с решением домашней работы подрастете на лидерборде!"
   ]
  },
  {
   "cell_type": "code",
   "execution_count": 50,
   "metadata": {},
   "outputs": [],
   "source": [
    "from bs4 import BeautifulSoup\n",
    "import codecs\n",
    "import pandas as pd"
   ]
  },
  {
   "cell_type": "code",
   "execution_count": 51,
   "metadata": {},
   "outputs": [
    {
     "name": "stdout",
     "output_type": "stream",
     "text": [
      "28026\n"
     ]
    }
   ],
   "source": [
    "doc_to_title = {}\n",
    "with open('docs_titles.tsv') as f:\n",
    "    for num_line, line in enumerate(f):\n",
    "        if num_line == 0:\n",
    "            continue\n",
    "        data = line.strip().split('\\t', 1)\n",
    "        doc_id = int(data[0])\n",
    "        if len(data) == 1:\n",
    "            title = ''\n",
    "        else:\n",
    "            title = data[1]\n",
    "        doc_to_title[doc_id] = title\n",
    "print (len(doc_to_title))\n"
   ]
  },
  {
   "cell_type": "code",
   "execution_count": 53,
   "metadata": {},
   "outputs": [],
   "source": [
    "import pandas as pd\n",
    "train_data = pd.read_csv('train_groups.csv')\n",
    "traingroups_titledata = {}\n",
    "for i in range(len(train_data)):\n",
    "    new_doc = train_data.iloc[i]\n",
    "    doc_group = new_doc['group_id']\n",
    "    doc_id = new_doc['doc_id']\n",
    "    target = new_doc['target']\n",
    "    title = doc_to_title[doc_id]\n",
    "    if doc_group not in traingroups_titledata:\n",
    "        traingroups_titledata[doc_group] = []\n",
    "    traingroups_titledata[doc_group].append((doc_id, title, target))"
   ]
  },
  {
   "cell_type": "code",
   "execution_count": 54,
   "metadata": {},
   "outputs": [
    {
     "name": "stdout",
     "output_type": "stream",
     "text": [
      "(11690, 15) (11690,) (11690,)\n"
     ]
    }
   ],
   "source": [
    "import numpy as np\n",
    "y_train = []\n",
    "X_train = []\n",
    "groups_train = []\n",
    "for new_group in traingroups_titledata:\n",
    "    docs = traingroups_titledata[new_group]\n",
    "    for k, (doc_id, title, target_id) in enumerate(docs):\n",
    "        y_train.append(target_id)\n",
    "        groups_train.append(new_group)\n",
    "        all_dist = []\n",
    "        words = set(title.strip().split())\n",
    "        for j in range(0, len(docs)):\n",
    "            if k == j:\n",
    "                continue\n",
    "            doc_id_j, title_j, target_j = docs[j]\n",
    "            words_j = set(title_j.strip().split())\n",
    "            all_dist.append(len(words.intersection(words_j)))\n",
    "        X_train.append(sorted(all_dist, reverse=True)[0:15]    )\n",
    "X_train = np.array(X_train)\n",
    "y_train = np.array(y_train)\n",
    "groups_train = np.array(groups_train)\n",
    "print (X_train.shape, y_train.shape, groups_train.shape)"
   ]
  },
  {
   "cell_type": "markdown",
   "metadata": {},
   "source": [
    "Подберите размер батча для обучения. Линейная модель не должна учиться дольше нескольких минут. \n",
    "\n",
    "Не забывайте использовать скейлер!"
   ]
  },
  {
   "cell_type": "code",
   "execution_count": 63,
   "metadata": {},
   "outputs": [],
   "source": [
    "from sklearn.metrics import f1_score\n",
    "from sklearn.linear_model import LinearRegression\n",
    "from sklearn.preprocessing import StandardScaler\n",
    "from sklearn.model_selection import KFold"
   ]
  },
  {
   "cell_type": "code",
   "execution_count": 121,
   "metadata": {},
   "outputs": [
    {
     "name": "stdout",
     "output_type": "stream",
     "text": [
      "0.6145564068335444\n",
      "0.615251185670851\n",
      "0.6164468951012992\n",
      "0.6154207104435642\n"
     ]
    }
   ],
   "source": [
    "scaler = StandardScaler()\n",
    "X_train = scaler.fit_transform(X_train)\n",
    "classifier = MySGDClassifier(batch_generator, C=1, alpha=0.01, max_epoch=100, model_type='log_reg', batch_size=50)\n",
    "#classifier.fit(X_train, y_train)\n",
    "#print(f1_score(y_train, (classifier.predict(X_train) > 0.48).astype(int)))\n",
    "sp = kf.split(X_train)\n",
    "scores = []\n",
    "for i, j in sp:\n",
    "    classifier.fit(X_train[i], y_train[i])\n",
    "    scores.append(f1_score(y_train[j], (classifier.predict(X_train[j]) > 0.5).astype(int)))\n",
    "print(sum(scores) / float(len(scores)))\n",
    "classifier = MySGDClassifier(batch_generator, C=1, alpha=0.01, max_epoch=100, model_type='log_reg', batch_size=25)\n",
    "sp = kf.split(X_train)\n",
    "scores = []\n",
    "for i, j in sp:\n",
    "    classifier.fit(X_train[i], y_train[i])\n",
    "    scores.append(f1_score(y_train[j], (classifier.predict(X_train[j]) > 0.5).astype(int)))\n",
    "print(sum(scores) / float(len(scores)))\n",
    "classifier = MySGDClassifier(batch_generator, C=1, alpha=0.01, max_epoch=100, model_type='log_reg', batch_size=10)\n",
    "sp = kf.split(X_train)\n",
    "scores = []\n",
    "for i, j in sp:\n",
    "    classifier.fit(X_train[i], y_train[i])\n",
    "    scores.append(f1_score(y_train[j], (classifier.predict(X_train[j]) > 0.5).astype(int)))\n",
    "print(sum(scores) / float(len(scores)))\n",
    "classifier = MySGDClassifier(batch_generator, C=1, alpha=0.01, max_epoch=100, model_type='log_reg', batch_size=30)\n",
    "sp = kf.split(X_train)\n",
    "scores = []\n",
    "for i, j in sp:\n",
    "    classifier.fit(X_train[i], y_train[i])\n",
    "    scores.append(f1_score(y_train[j], (classifier.predict(X_train[j]) > 0.5).astype(int)))\n",
    "print(sum(scores) / float(len(scores)))"
   ]
  },
  {
   "cell_type": "code",
   "execution_count": 132,
   "metadata": {},
   "outputs": [],
   "source": [
    "ans = []\n",
    "for q in range(150, 200):\n",
    "    classifier = MySGDClassifier(batch_generator, C=1, alpha=0.01, max_epoch=100, model_type='log_reg', batch_size=q)\n",
    "    sp = kf.split(X_train)\n",
    "    scores = []\n",
    "    for i, j in sp:\n",
    "        classifier.fit(X_train[i], y_train[i])\n",
    "        scores.append(f1_score(y_train[j], (classifier.predict(X_train[j]) > 0.48).astype(int)))\n",
    "    ans.append((sum(scores) / float(len(scores)), q))\n"
   ]
  },
  {
   "cell_type": "code",
   "execution_count": 138,
   "metadata": {},
   "outputs": [
    {
     "name": "stdout",
     "output_type": "stream",
     "text": [
      "[(0.6201782989861354, 159), (0.619736999291525, 177), (0.6197164450115157, 169), (0.6196352325088571, 173), (0.6196099707261088, 199), (0.6195307673349575, 162), (0.6194654823034572, 190), (0.6194424586882367, 181), (0.6193255272104595, 194), (0.6192752180347919, 185), (0.6192417372272011, 165), (0.6191500450940167, 152), (0.6189900833194347, 198), (0.6189720400174546, 193), (0.6188813685459188, 197), (0.6188813685459188, 196), (0.6188813685459188, 195), (0.6188813685459188, 192), (0.6188813685459188, 191), (0.6188813685459188, 188), (0.6188813685459188, 187), (0.6188813685459188, 186), (0.6188813685459188, 183), (0.6188813685459188, 182), (0.6188813685459188, 179), (0.6188813685459188, 178), (0.6188813685459188, 175), (0.6188813685459188, 174), (0.6188813685459188, 171), (0.6188813685459188, 170), (0.6188813685459188, 167), (0.6188813685459188, 166), (0.6188813685459188, 164), (0.6188813685459188, 163), (0.6188813685459188, 160), (0.6188813685459188, 157), (0.6188813685459188, 156), (0.6188813685459188, 154), (0.6188813685459188, 153), (0.6188813685459188, 151), (0.6188813685459188, 150), (0.6187376568241395, 184), (0.6187376568241395, 168), (0.6187376568241395, 161), (0.6187113703500757, 155), (0.6186277161415354, 176), (0.6185441296966311, 158), (0.618485846003223, 180), (0.618485846003223, 172), (0.618402045490289, 189)]\n"
     ]
    }
   ],
   "source": [
    "ans.sort(reverse = True)\n",
    "print(ans)"
   ]
  },
  {
   "cell_type": "code",
   "execution_count": 134,
   "metadata": {},
   "outputs": [],
   "source": [
    "ans1 = []\n",
    "for q in range(100, 150):\n",
    "    classifier = MySGDClassifier(batch_generator, C=1, alpha=0.01, max_epoch=100, model_type='log_reg', batch_size=q)\n",
    "    sp = kf.split(X_train)\n",
    "    scores = []\n",
    "    for i, j in sp:\n",
    "        classifier.fit(X_train[i], y_train[i])\n",
    "        scores.append(f1_score(y_train[j], (classifier.predict(X_train[j]) > 0.48).astype(int)))\n",
    "    ans1.append((sum(scores) / float(len(scores)), q))"
   ]
  },
  {
   "cell_type": "code",
   "execution_count": 139,
   "metadata": {},
   "outputs": [
    {
     "name": "stdout",
     "output_type": "stream",
     "text": [
      "[(0.6199929559161128, 147), (0.6199223423615478, 118), (0.619736999291525, 132), (0.6196281363647949, 134), (0.6196281363647949, 116), (0.6195261807428504, 144), (0.6194608957113502, 111), (0.6194608957113502, 105), (0.6194424586882367, 139), (0.6194424586882367, 108), (0.6194424586882367, 101), (0.6192417372272011, 141), (0.6191580151725874, 102), (0.6190662551107583, 136), (0.6189900833194347, 143), (0.6189825330561445, 114), (0.6189058726067477, 117), (0.6188813685459188, 148), (0.6188813685459188, 145), (0.6188813685459188, 142), (0.6188813685459188, 140), (0.6188813685459188, 137), (0.6188813685459188, 135), (0.6188813685459188, 130), (0.6188813685459188, 128), (0.6188813685459188, 126), (0.6188813685459188, 124), (0.6188813685459188, 122), (0.6188813685459188, 120), (0.6188152924026998, 123), (0.6188152924026998, 121), (0.6188034125299776, 133), (0.6187376568241395, 138), (0.6187376568241395, 131), (0.6187376568241395, 112), (0.6187376568241395, 103), (0.6187201310504876, 149), (0.6187201310504876, 127), (0.6187127410584418, 115), (0.6187127410584418, 113), (0.6187127410584418, 110), (0.6187127410584418, 107), (0.6187127410584418, 104), (0.6187127410584418, 100), (0.6185441296966311, 129), (0.6185441296966311, 125), (0.6185441296966311, 119), (0.6185441296966311, 109), (0.6185441296966311, 106), (0.618485846003223, 146)]\n"
     ]
    }
   ],
   "source": [
    "ans1.sort(reverse = True)\n",
    "print(ans1)"
   ]
  },
  {
   "cell_type": "markdown",
   "metadata": {},
   "source": [
    "Разбейте данные на обучение и валидацию. Подберите параметры C, alpha, max_epoch, model_type на валидации (Вы же помните, как правильно в этой задаче делать валидацию?)"
   ]
  },
  {
   "cell_type": "code",
   "execution_count": 183,
   "metadata": {},
   "outputs": [],
   "source": [
    "def validation(X, y, groups_train):\n",
    "    size = 0.4\n",
    "    np.random.seed()\n",
    "    groups = np.unique(groups_train)\n",
    "    np.random.shuffle(groups) \n",
    "    n = groups.shape[0] \n",
    "    validation_groups = np.isin(groups_train, groups[:int(n * size)])\n",
    "    train_groups = np.logical_not(validation_groups)\n",
    "    return X[train_groups], X[validation_groups], y[train_groups], y[validation_groups]\n",
    "train_x, x_validation, train_y, y_validation = validation(X_train, y_train, groups_train)"
   ]
  },
  {
   "cell_type": "code",
   "execution_count": null,
   "metadata": {},
   "outputs": [],
   "source": []
  },
  {
   "cell_type": "markdown",
   "metadata": {
    "collapsed": true
   },
   "source": [
    "Подберите порог линейной модели, по достижении которого, Вы будете относить объект к классу 1. Вспомните, какую метрику мы оптимизируем в соревновании.  Как тогда правильно подобрать порог?"
   ]
  },
  {
   "cell_type": "code",
   "execution_count": 184,
   "metadata": {},
   "outputs": [
    {
     "name": "stdout",
     "output_type": "stream",
     "text": [
      "{'alpha': 0.1, 'C': 1, 'max_score': 0.6203645505971088, 'max_epoch': 1}\n"
     ]
    }
   ],
   "source": [
    "import itertools\n",
    "res = {}\n",
    "score = 0\n",
    "C = [1, 10, 100, 1000]\n",
    "alpha = [0.001, 0.01, 0.1, 0.5]\n",
    "epoch = [1, 10, 50, 100]\n",
    "ans = itertools.product(C, alpha, epoch)\n",
    "for (c, a, epoch) in ans:\n",
    "    clf = MySGDClassifier(batch_generator,\n",
    "                            model_type='log_reg', alpha=a,\n",
    "                            max_epoch=epoch, C=c, batch_size=159)\n",
    "    clf.fit(train_x, train_y)\n",
    "    y_pred = clf.predict(x_validation)\n",
    "    f1 = f1_score(y_validation, (y_pred > 0.48).astype(int))\n",
    "    if(f1 >= score):\n",
    "        score = f1\n",
    "        res['alpha'] = a\n",
    "        res['C'] = c\n",
    "        res['max_score'] = f1\n",
    "        res['max_epoch'] = epoch\n",
    "print(res)"
   ]
  },
  {
   "cell_type": "code",
   "execution_count": null,
   "metadata": {
    "collapsed": true
   },
   "outputs": [],
   "source": []
  },
  {
   "cell_type": "code",
   "execution_count": 185,
   "metadata": {},
   "outputs": [
    {
     "name": "stdout",
     "output_type": "stream",
     "text": [
      "(16627, 15) (16627,)\n"
     ]
    }
   ],
   "source": [
    "test_data = pd.read_csv('test_groups.csv')\n",
    "testgroups_titledata = {}\n",
    "for i in range(len(test_data)):\n",
    "    new_doc = test_data.iloc[i]\n",
    "    doc_group = new_doc['group_id']\n",
    "    doc_id = new_doc['doc_id']\n",
    "    title = doc_to_title[doc_id]\n",
    "    if doc_group not in testgroups_titledata:\n",
    "        testgroups_titledata[doc_group] = []\n",
    "    testgroups_titledata[doc_group].append((doc_id, title))\n",
    "\n",
    "X_test = []\n",
    "groups_test = []\n",
    "for new_group in testgroups_titledata:\n",
    "    docs = testgroups_titledata[new_group]\n",
    "    for k, (doc_id, title) in enumerate(docs):\n",
    "        groups_test.append(new_group)\n",
    "        all_dist = []\n",
    "        words = set(title)\n",
    "        for j in range(0, len(docs)):\n",
    "            if k == j:\n",
    "                continue\n",
    "            doc_id_j, title_j = docs[j]\n",
    "            words_j = set(title_j)\n",
    "            all_dist.append(len(words.intersection(words_j)))\n",
    "        X_test.append(sorted(all_dist, reverse=True)[0:15])\n",
    "X_test = np.array(X_test)\n",
    "groups_test = np.array(groups_test)\n",
    "print(X_test.shape, groups_test.shape)"
   ]
  },
  {
   "cell_type": "code",
   "execution_count": 186,
   "metadata": {},
   "outputs": [],
   "source": [
    "scaler = StandardScaler()\n",
    "X_test = scaler.fit_transform(X_test)\n",
    "X_train = scaler.fit_transform(X_train)\n",
    "clf = MySGDClassifier(batch_generator, model_type='log_reg',\n",
    "                        alpha=0.1,\n",
    "                        max_epoch=100, C=1, batch_size=159)\n",
    "clf.fit(X_train, y_train)\n",
    "y_pred = (clf.predict(X_test) > 0.5).astype(int)\n",
    "ans = pd.DataFrame({'pair_id': test_data['pair_id'], 'target': y_pred})\n",
    "ans.to_csv(\"ans.csv\", index=False)"
   ]
  },
  {
   "cell_type": "code",
   "execution_count": 190,
   "metadata": {},
   "outputs": [
    {
     "name": "stdout",
     "output_type": "stream",
     "text": [
      "(16627, 15)\n",
      "[0 1 1 ... 0 0 1]\n",
      "0\n",
      "[8527 8100]\n",
      "16627\n",
      "0\n"
     ]
    }
   ],
   "source": [
    "scaler = StandardScaler()\n",
    "X_train = scaler.fit_transform(X_train, y_train)\n",
    "clf = MySGDClassifier(batch_generator, C=1, alpha=0.1, max_epoch=10,\n",
    "model_type='log_reg', batch_size=10)\n",
    "clf.fit(X_train, y_train)\n",
    "\n",
    "X_test = scaler.transform(X_test)\n",
    "print(X_test.shape)\n",
    "\n",
    "#y = (np.around(clf.predict(X_test), decimals=0)).astype(np.int32)\n",
    "y = np.around(clf.predict(X_test), decimals=0).astype(int)\n",
    "print(y)\n",
    "print(y[4])\n",
    "u, counts = np.unique(y, return_counts=True)\n",
    "print(counts)\n",
    "r = range(11691, 28318)\n",
    "print(len(r))\n",
    " \n",
    "data = {'pair_id' : range(11691, 28318), 'target': y}\n",
    "res = pd.DataFrame(data)\n",
    "print(res['target'][4])\n",
    "res.to_csv('sec_pred.csv', index=False)"
   ]
  },
  {
   "cell_type": "markdown",
   "metadata": {},
   "source": [
    "С лучшими параметрами на валидации сделайте предсказание на тестовом множестве, отправьте его на проверку на платформу kaggle. Убедитесь, что Вы смогли побить public score первого бейзлайна."
   ]
  },
  {
   "cell_type": "markdown",
   "metadata": {
    "collapsed": true
   },
   "source": [
    "** При сдаче домашки Вам необходимо кроме ссылки на ноутбук прислать Ваш ник на kaggle, под которым Вы залили решение, которое побило первый бейзлайн. **"
   ]
  },
  {
   "cell_type": "code",
   "execution_count": null,
   "metadata": {
    "collapsed": true
   },
   "outputs": [],
   "source": []
  },
  {
   "cell_type": "markdown",
   "metadata": {},
   "source": [
    "# Фидбек (бесценно)"
   ]
  },
  {
   "cell_type": "markdown",
   "metadata": {},
   "source": [
    "* Какие аспекты обучения линейных моделей Вам показались непонятными? Какое место стоит дополнительно объяснить?"
   ]
  },
  {
   "cell_type": "markdown",
   "metadata": {},
   "source": [
    "***Ваше ответ здесь***"
   ]
  },
  {
   "cell_type": "markdown",
   "metadata": {},
   "source": [
    "* Здесь Вы можете оставить отзыв о этой домашней работе или о всем курсе.   "
   ]
  },
  {
   "cell_type": "markdown",
   "metadata": {},
   "source": [
    "*** ВАШ ОТЗЫВ ЗДЕСЬ***"
   ]
  },
  {
   "cell_type": "code",
   "execution_count": null,
   "metadata": {
    "collapsed": true
   },
   "outputs": [],
   "source": []
  },
  {
   "cell_type": "code",
   "execution_count": null,
   "metadata": {
    "collapsed": true
   },
   "outputs": [],
   "source": []
  }
 ],
 "metadata": {
  "anaconda-cloud": {},
  "celltoolbar": "Raw Cell Format",
  "kernelspec": {
   "display_name": "Python 3",
   "language": "python",
   "name": "python3"
  },
  "language_info": {
   "codemirror_mode": {
    "name": "ipython",
    "version": 3
   },
   "file_extension": ".py",
   "mimetype": "text/x-python",
   "name": "python",
   "nbconvert_exporter": "python",
   "pygments_lexer": "ipython3",
   "version": "3.7.3"
  },
  "nav_menu": {},
  "toc": {
   "colors": {
    "hover_highlight": "#DAA520",
    "navigate_num": "#000000",
    "navigate_text": "#333333",
    "running_highlight": "#FF0000",
    "selected_highlight": "#FFD700",
    "sidebar_border": "#EEEEEE",
    "wrapper_background": "#FFFFFF"
   },
   "moveMenuLeft": true,
   "nav_menu": {
    "height": "402px",
    "width": "253px"
   },
   "navigate_menu": true,
   "number_sections": false,
   "sideBar": true,
   "threshold": 4,
   "toc_cell": false,
   "toc_section_display": "block",
   "toc_window_display": true,
   "widenNotebook": false
  }
 },
 "nbformat": 4,
 "nbformat_minor": 2
}
