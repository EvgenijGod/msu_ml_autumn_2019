{
 "cells": [
  {
   "cell_type": "markdown",
   "metadata": {},
   "source": [
    "**Общая информация**\n",
    "\n",
    "**Срок сдачи:** 21 октября 2019, 08:30 \n",
    "\n",
    "**Штраф за опоздание:** по 0.5 балла за 24 часа задержки. Через 10 дней домашнее задание сгорает.\n",
    "\n",
    "При отправлении ДЗ указывайте фамилию в названии файла\n",
    "Присылать ДЗ необходимо в виде ссылки на свой github репозиторий на почту ml1.sphere@mail.ru с указанием темы в следующем формате:\n",
    "\n",
    "[ML0919, Задание 1] Фамилия Имя.\n",
    "\n",
    "Используйте данный Ipython Notebook при оформлении домашнего задания."
   ]
  },
  {
   "cell_type": "markdown",
   "metadata": {},
   "source": [
    "\n",
    "**Штрафные баллы:**\n",
    "\n",
    "1. Невыполнение PEP8 -0.5 баллов\n",
    "2. Отсутствие фамилии в имени скрипта (скрипт должен называться по аналогии со stroykova_hw1.ipynb) -0.5 баллов\n",
    "3. Все строчки должны быть выполнены. Нужно, чтобы output команды можно было увидеть уже в git'е. В противном случае -0.5 баллов\n"
   ]
  },
  {
   "cell_type": "code",
   "execution_count": 42,
   "metadata": {},
   "outputs": [
    {
     "name": "stdout",
     "output_type": "stream",
     "text": [
      "The pycodestyle_magic extension is already loaded. To reload it, use:\n",
      "  %reload_ext pycodestyle_magic\n"
     ]
    }
   ],
   "source": [
    "import numpy as np\n",
    "import matplotlib.pyplot as plt\n",
    "import re\n",
    "from scipy.spatial.distance import pdist, squareform, cdist\n",
    "\n",
    "import sklearn\n",
    "import seaborn as sns #графоний\n",
    "from sklearn import datasets\n",
    "from sklearn.base import ClassifierMixin\n",
    "from sklearn.datasets import fetch_mldata, fetch_20newsgroups\n",
    "from sklearn.model_selection import cross_validate\n",
    "from sklearn.feature_extraction.text import CountVectorizer\n",
    "from sklearn.feature_extraction.text import TfidfTransformer\n",
    "\n",
    "from sklearn.neighbors.base import NeighborsBase, KNeighborsMixin, SupervisedIntegerMixin \n",
    "from sklearn.model_selection import train_test_split\n",
    "from sklearn.neighbors import KNeighborsClassifier\n",
    "from sklearn.neighbors.dist_metrics import DistanceMetric\n",
    "from sklearn.neighbors.kd_tree import KDTree \n",
    "%load_ext pycodestyle_magic"
   ]
  },
  {
   "cell_type": "markdown",
   "metadata": {},
   "source": [
    "##### Задание 1 (1 балл)\n",
    "Реализовать KNN в классе MyKNeighborsClassifier (обязательное условие: точность не ниже sklearn реализации)\n",
    "Разберитесь самостоятельно, какая мера расстояния используется в KNeighborsClassifier дефолтно и реализуйте свой алгоритм именно с этой мерой. Самостоятельно разберитесь, как считается score из KNeighborsClassifier и реализуйте аналог в своём классе. Score не должен уступать значению KNN из sklearn"
   ]
  },
  {
   "cell_type": "code",
   "execution_count": 38,
   "metadata": {},
   "outputs": [],
   "source": [
    "#%%pycodestyle\n",
    "\n",
    "class MyKNeighborsClassifier(NeighborsBase, KNeighborsMixin, SupervisedIntegerMixin, ClassifierMixin):\n",
    "    \n",
    "    def __init__(self, n_neighbors, algorithm='brute', metric='euclidean'):\n",
    "        self.n = n_neighbors\n",
    "        self.alg=algorithm\n",
    "        self.metric=metric\n",
    "    \n",
    "    def fit(self, X, y):\n",
    "        self.X = np.asarray(X)\n",
    "        self.y = np.asarray(y)\n",
    "        pass\n",
    "    \n",
    "    def brute_predict(self, X):\n",
    "        x = np.asarray(X)\n",
    "        ans = np.ones(X.shape[0])\n",
    "        d = cdist(X, self.X, self.metric)\n",
    "        a = self.y[np.argsort(d, axis = 1)[:, :self.n]]\n",
    "        for i in range(X.shape[0]):\n",
    "            u, indices = np.unique(a[i], return_counts=True)\n",
    "            ans[i] = u[np.argmax(indices)]\n",
    "        return ans.astype(int)\n",
    "    \n",
    "    def brute_predict_proba(self, X):\n",
    "        d = cdist(X, self.X, self.metric)\n",
    "        a = self.y[np.argsort(d, axis = 1)[:, :self.n]]\n",
    "        x1, y1 = np.unique(self.y, return_inverse=True)\n",
    "        ans = np.zeros((X.shape[0], x1.shape[0]))\n",
    "        for i in range(X.shape[0]):\n",
    "            tmp = np.append(a[i], x1, axis = 0)\n",
    "            u, counts = np.unique(tmp, return_counts=True)\n",
    "            counts = counts - 1\n",
    "            counts = counts / counts.sum()\n",
    "            ans[i] = counts\n",
    "        return ans\n",
    "    \n",
    "    def kd_tree_predict_proba(self, X):\n",
    "        a = sklearn.neighbors.KDTree(self.X)  \n",
    "        a = a.query(X, k=self.n, return_distance=False, dualtree=False, breadth_first=False)\n",
    "        a = self.y[a]\n",
    "        x1, y1 = np.unique(self.y, return_inverse=True)\n",
    "        ans = np.zeros((X.shape[0], x1.shape[0]))\n",
    "        for i in range(X.shape[0]):\n",
    "            tmp = np.append(a[i], x1, axis = 0)\n",
    "            u, counts = np.unique(tmp, return_counts=True)\n",
    "            counts = counts - 1\n",
    "            counts = counts / counts.sum()\n",
    "            ans[i] = counts\n",
    "        return ans\n",
    "    \n",
    "    def kd_tree_predict(self, X):\n",
    "        ans = np.ones(X.shape[0])\n",
    "        a = sklearn.neighbors.KDTree(self.X)  \n",
    "        a = a.query(X, k=self.n, return_distance=False, dualtree=False, breadth_first=False)\n",
    "        a = self.y[a]\n",
    "        for i in range(X.shape[0]):\n",
    "            u, indices = np.unique(a[i], return_counts=True)\n",
    "            ans[i] = u[np.argmax(indices)]\n",
    "        return ans.astype(int)\n",
    "    \n",
    "    def predict(self, X):\n",
    "        if self.alg=='brute':\n",
    "            return self.brute_predict(X)\n",
    "        if self.alg=='kd_tree':\n",
    "            return self.kd_tree_predict(X)\n",
    "            \n",
    "    def predict_proba(self, X):\n",
    "        if self.alg=='brute':\n",
    "            return self.brute_predict_proba(X)\n",
    "        if self.alg=='kd_tree':\n",
    "            return self.kd_tree_predict_proba(X)\n",
    "    \n",
    "    def score(self, X, y):\n",
    "        return np.average(self.predict(X) == y)"
   ]
  },
  {
   "cell_type": "markdown",
   "metadata": {},
   "source": [
    "**IRIS**\n",
    "\n",
    "В библиотеке scikit-learn есть несколько датасетов из коробки. Один из них [Ирисы Фишера](https://ru.wikipedia.org/wiki/%D0%98%D1%80%D0%B8%D1%81%D1%8B_%D0%A4%D0%B8%D1%88%D0%B5%D1%80%D0%B0)"
   ]
  },
  {
   "cell_type": "code",
   "execution_count": 3,
   "metadata": {},
   "outputs": [
    {
     "data": {
      "text/plain": [
       "KNeighborsClassifier(algorithm='brute', leaf_size=30, metric='minkowski',\n",
       "                     metric_params=None, n_jobs=None, n_neighbors=20, p=2,\n",
       "                     weights='uniform')"
      ]
     },
     "execution_count": 3,
     "metadata": {},
     "output_type": "execute_result"
    }
   ],
   "source": [
    "iris = datasets.load_iris()\n",
    "X_train, X_test, y_train, y_test = train_test_split(iris.data, iris.target, test_size=0.1, stratify=iris.target)\n",
    "clf = KNeighborsClassifier(n_neighbors=20, algorithm='brute')\n",
    "my_clf = MyKNeighborsClassifier(n_neighbors=20, algorithm='brute')\n",
    "clf.fit(X_train, y_train)"
   ]
  },
  {
   "cell_type": "code",
   "execution_count": 4,
   "metadata": {},
   "outputs": [
    {
     "data": {
      "text/plain": [
       "array([2, 0, 1, 0, 1, 2, 0, 0, 0, 1, 0, 0, 2, 2, 0, 0, 0, 2, 0, 2, 2, 1,\n",
       "       2, 0, 0, 1, 1, 0, 1, 2, 2, 0, 0, 1, 1, 0, 2, 0, 1, 0, 1, 1, 2, 2,\n",
       "       1, 1, 2, 1, 0, 1, 0, 1, 1, 0, 2, 1, 1, 2, 1, 2, 0, 0, 1, 1, 2, 2,\n",
       "       2, 1, 1, 2, 0, 2, 0, 2, 0, 2, 1, 1, 1, 0, 2, 0, 1, 1, 0, 1, 2, 2,\n",
       "       0, 0, 2, 2, 1, 2, 0, 0, 1, 0, 0, 1, 2, 2, 0, 2, 2, 1, 0, 0, 2, 2,\n",
       "       1, 1, 0, 1, 0, 0, 1, 2, 1, 2, 2, 0, 1, 2, 0, 2, 1, 1, 0, 2, 2, 2,\n",
       "       1, 1, 2])"
      ]
     },
     "execution_count": 4,
     "metadata": {},
     "output_type": "execute_result"
    }
   ],
   "source": [
    "clf.predict(X_train)"
   ]
  },
  {
   "cell_type": "code",
   "execution_count": 5,
   "metadata": {},
   "outputs": [
    {
     "data": {
      "text/plain": [
       "array([2, 0, 1, 0, 1, 2, 0, 0, 0, 1, 0, 0, 2, 2, 0, 0, 0, 2, 0, 2, 2, 1,\n",
       "       2, 0, 0, 1, 1, 0, 1, 2, 2, 0, 0, 1, 1, 0, 2, 0, 1, 0, 1, 1, 2, 2,\n",
       "       1, 1, 2, 1, 0, 1, 0, 1, 1, 0, 2, 1, 1, 2, 1, 2, 0, 0, 1, 1, 2, 2,\n",
       "       2, 1, 1, 2, 0, 2, 0, 2, 0, 2, 1, 1, 1, 0, 2, 0, 1, 1, 0, 1, 2, 2,\n",
       "       0, 0, 2, 2, 1, 2, 0, 0, 1, 0, 0, 1, 2, 2, 0, 2, 2, 1, 0, 0, 2, 2,\n",
       "       1, 1, 0, 1, 0, 0, 1, 2, 1, 2, 2, 0, 1, 2, 0, 2, 1, 1, 0, 2, 2, 2,\n",
       "       1, 1, 2])"
      ]
     },
     "execution_count": 5,
     "metadata": {},
     "output_type": "execute_result"
    }
   ],
   "source": [
    "my_clf.fit(X_train, y_train)\n",
    "my_clf.predict(X_train)"
   ]
  },
  {
   "cell_type": "code",
   "execution_count": 6,
   "metadata": {},
   "outputs": [
    {
     "data": {
      "text/plain": [
       "array([1, 2, 0, 1, 0, 0, 1, 2, 1, 2, 1, 1, 0, 0, 2])"
      ]
     },
     "execution_count": 6,
     "metadata": {},
     "output_type": "execute_result"
    }
   ],
   "source": [
    "my_clf.predict(X_test)"
   ]
  },
  {
   "cell_type": "code",
   "execution_count": 7,
   "metadata": {},
   "outputs": [
    {
     "data": {
      "text/plain": [
       "array([1, 2, 0, 1, 0, 0, 1, 2, 1, 2, 1, 1, 0, 0, 2])"
      ]
     },
     "execution_count": 7,
     "metadata": {},
     "output_type": "execute_result"
    }
   ],
   "source": [
    "clf.predict(X_test)"
   ]
  },
  {
   "cell_type": "code",
   "execution_count": 8,
   "metadata": {},
   "outputs": [],
   "source": [
    "assert abs(my_clf.score(X_test, y_test) - clf.score(X_test,y_test))<0.005, \"Score must be simillar\""
   ]
  },
  {
   "cell_type": "markdown",
   "metadata": {},
   "source": [
    "**Задание 2 (0.5 балла)**\n",
    "\n",
    "Давайте попробуем добиться скорости работы на fit, predict и predict_proba сравнимой со sklearn для iris.\n",
    "Для этого используем numpy"
   ]
  },
  {
   "cell_type": "code",
   "execution_count": 9,
   "metadata": {},
   "outputs": [
    {
     "name": "stdout",
     "output_type": "stream",
     "text": [
      "CPU times: user 0 ns, sys: 0 ns, total: 0 ns\n",
      "Wall time: 1.07 ms\n"
     ]
    },
    {
     "data": {
      "text/plain": [
       "KNeighborsClassifier(algorithm='brute', leaf_size=30, metric='minkowski',\n",
       "                     metric_params=None, n_jobs=None, n_neighbors=20, p=2,\n",
       "                     weights='uniform')"
      ]
     },
     "execution_count": 9,
     "metadata": {},
     "output_type": "execute_result"
    }
   ],
   "source": [
    "%time clf.fit(X_train, y_train)"
   ]
  },
  {
   "cell_type": "code",
   "execution_count": 10,
   "metadata": {},
   "outputs": [
    {
     "name": "stdout",
     "output_type": "stream",
     "text": [
      "CPU times: user 0 ns, sys: 0 ns, total: 0 ns\n",
      "Wall time: 27.4 µs\n"
     ]
    }
   ],
   "source": [
    "%time my_clf.fit(X_train, y_train)"
   ]
  },
  {
   "cell_type": "code",
   "execution_count": 11,
   "metadata": {},
   "outputs": [
    {
     "name": "stdout",
     "output_type": "stream",
     "text": [
      "CPU times: user 0 ns, sys: 15.6 ms, total: 15.6 ms\n",
      "Wall time: 9.82 ms\n"
     ]
    },
    {
     "data": {
      "text/plain": [
       "array([1, 2, 0, 1, 0, 0, 1, 2, 1, 2, 1, 1, 0, 0, 2])"
      ]
     },
     "execution_count": 11,
     "metadata": {},
     "output_type": "execute_result"
    }
   ],
   "source": [
    "%time clf.predict(X_test)"
   ]
  },
  {
   "cell_type": "code",
   "execution_count": 12,
   "metadata": {},
   "outputs": [
    {
     "name": "stdout",
     "output_type": "stream",
     "text": [
      "CPU times: user 0 ns, sys: 0 ns, total: 0 ns\n",
      "Wall time: 2.77 ms\n"
     ]
    },
    {
     "data": {
      "text/plain": [
       "array([1, 2, 0, 1, 0, 0, 1, 2, 1, 2, 1, 1, 0, 0, 2])"
      ]
     },
     "execution_count": 12,
     "metadata": {},
     "output_type": "execute_result"
    }
   ],
   "source": [
    "%time my_clf.predict(X_test)"
   ]
  },
  {
   "cell_type": "code",
   "execution_count": 13,
   "metadata": {},
   "outputs": [
    {
     "name": "stdout",
     "output_type": "stream",
     "text": [
      "CPU times: user 0 ns, sys: 0 ns, total: 0 ns\n",
      "Wall time: 3.1 ms\n"
     ]
    },
    {
     "data": {
      "text/plain": [
       "array([[0.  , 0.85, 0.15],\n",
       "       [0.  , 0.  , 1.  ],\n",
       "       [1.  , 0.  , 0.  ],\n",
       "       [0.  , 1.  , 0.  ],\n",
       "       [1.  , 0.  , 0.  ],\n",
       "       [1.  , 0.  , 0.  ],\n",
       "       [0.  , 1.  , 0.  ],\n",
       "       [0.  , 0.3 , 0.7 ],\n",
       "       [0.  , 1.  , 0.  ],\n",
       "       [0.  , 0.25, 0.75],\n",
       "       [0.  , 1.  , 0.  ],\n",
       "       [0.  , 0.5 , 0.5 ],\n",
       "       [1.  , 0.  , 0.  ],\n",
       "       [1.  , 0.  , 0.  ],\n",
       "       [0.  , 0.05, 0.95]])"
      ]
     },
     "execution_count": 13,
     "metadata": {},
     "output_type": "execute_result"
    }
   ],
   "source": [
    "%time clf.predict_proba(X_test)"
   ]
  },
  {
   "cell_type": "code",
   "execution_count": 14,
   "metadata": {},
   "outputs": [
    {
     "name": "stdout",
     "output_type": "stream",
     "text": [
      "CPU times: user 0 ns, sys: 0 ns, total: 0 ns\n",
      "Wall time: 3.5 ms\n"
     ]
    },
    {
     "data": {
      "text/plain": [
       "array([[0.  , 0.85, 0.15],\n",
       "       [0.  , 0.  , 1.  ],\n",
       "       [1.  , 0.  , 0.  ],\n",
       "       [0.  , 1.  , 0.  ],\n",
       "       [1.  , 0.  , 0.  ],\n",
       "       [1.  , 0.  , 0.  ],\n",
       "       [0.  , 1.  , 0.  ],\n",
       "       [0.  , 0.3 , 0.7 ],\n",
       "       [0.  , 1.  , 0.  ],\n",
       "       [0.  , 0.25, 0.75],\n",
       "       [0.  , 1.  , 0.  ],\n",
       "       [0.  , 0.5 , 0.5 ],\n",
       "       [1.  , 0.  , 0.  ],\n",
       "       [1.  , 0.  , 0.  ],\n",
       "       [0.  , 0.05, 0.95]])"
      ]
     },
     "execution_count": 14,
     "metadata": {},
     "output_type": "execute_result"
    }
   ],
   "source": [
    "%time my_clf.predict_proba(X_test)"
   ]
  },
  {
   "cell_type": "markdown",
   "metadata": {},
   "source": [
    "###### Задание 3 (1 балл)\n",
    "Добавьте algorithm='kd_tree' в реализацию KNN (использовать KDTree из sklearn.neighbors). Необходимо добиться скорости работы на fit,  predict и predict_proba сравнимой со sklearn для iris.\n",
    "Для этого используем numpy. Score не должен уступать значению KNN из sklearn"
   ]
  },
  {
   "cell_type": "code",
   "execution_count": 15,
   "metadata": {},
   "outputs": [],
   "source": [
    "clf = KNeighborsClassifier(n_neighbors=20, algorithm='kd_tree')\n",
    "my_clf = MyKNeighborsClassifier(n_neighbors=20, algorithm='kd_tree')\n",
    "X_train, X_test, y_train, y_test = train_test_split(iris.data, iris.target, test_size=0.1, stratify=iris.target)"
   ]
  },
  {
   "cell_type": "code",
   "execution_count": 16,
   "metadata": {},
   "outputs": [
    {
     "name": "stdout",
     "output_type": "stream",
     "text": [
      "CPU times: user 0 ns, sys: 0 ns, total: 0 ns\n",
      "Wall time: 4.61 ms\n"
     ]
    },
    {
     "data": {
      "text/plain": [
       "KNeighborsClassifier(algorithm='kd_tree', leaf_size=30, metric='minkowski',\n",
       "                     metric_params=None, n_jobs=None, n_neighbors=20, p=2,\n",
       "                     weights='uniform')"
      ]
     },
     "execution_count": 16,
     "metadata": {},
     "output_type": "execute_result"
    }
   ],
   "source": [
    "%time clf.fit(X_train, y_train)"
   ]
  },
  {
   "cell_type": "code",
   "execution_count": 17,
   "metadata": {},
   "outputs": [
    {
     "name": "stdout",
     "output_type": "stream",
     "text": [
      "CPU times: user 0 ns, sys: 0 ns, total: 0 ns\n",
      "Wall time: 18.1 µs\n"
     ]
    }
   ],
   "source": [
    "%time my_clf.fit(X_train, y_train)"
   ]
  },
  {
   "cell_type": "code",
   "execution_count": 18,
   "metadata": {},
   "outputs": [
    {
     "name": "stdout",
     "output_type": "stream",
     "text": [
      "CPU times: user 0 ns, sys: 15.6 ms, total: 15.6 ms\n",
      "Wall time: 8.79 ms\n"
     ]
    },
    {
     "data": {
      "text/plain": [
       "array([1, 2, 0, 1, 2, 1, 0, 1, 2, 0, 1, 0, 2, 2, 0])"
      ]
     },
     "execution_count": 18,
     "metadata": {},
     "output_type": "execute_result"
    }
   ],
   "source": [
    "%time clf.predict(X_test)"
   ]
  },
  {
   "cell_type": "code",
   "execution_count": 19,
   "metadata": {},
   "outputs": [
    {
     "name": "stdout",
     "output_type": "stream",
     "text": [
      "CPU times: user 0 ns, sys: 0 ns, total: 0 ns\n",
      "Wall time: 6.2 ms\n"
     ]
    },
    {
     "data": {
      "text/plain": [
       "array([1, 2, 0, 1, 2, 1, 0, 1, 2, 0, 1, 0, 2, 2, 0])"
      ]
     },
     "execution_count": 19,
     "metadata": {},
     "output_type": "execute_result"
    }
   ],
   "source": [
    "%time my_clf.predict(X_test)"
   ]
  },
  {
   "cell_type": "code",
   "execution_count": 20,
   "metadata": {},
   "outputs": [
    {
     "name": "stdout",
     "output_type": "stream",
     "text": [
      "CPU times: user 0 ns, sys: 0 ns, total: 0 ns\n",
      "Wall time: 3.05 ms\n"
     ]
    },
    {
     "data": {
      "text/plain": [
       "array([[0.  , 0.85, 0.15],\n",
       "       [0.  , 0.1 , 0.9 ],\n",
       "       [1.  , 0.  , 0.  ],\n",
       "       [0.  , 1.  , 0.  ],\n",
       "       [0.  , 0.05, 0.95],\n",
       "       [0.  , 0.75, 0.25],\n",
       "       [1.  , 0.  , 0.  ],\n",
       "       [0.  , 1.  , 0.  ],\n",
       "       [0.  , 0.1 , 0.9 ],\n",
       "       [1.  , 0.  , 0.  ],\n",
       "       [0.  , 0.85, 0.15],\n",
       "       [1.  , 0.  , 0.  ],\n",
       "       [0.  , 0.  , 1.  ],\n",
       "       [0.  , 0.  , 1.  ],\n",
       "       [1.  , 0.  , 0.  ]])"
      ]
     },
     "execution_count": 20,
     "metadata": {},
     "output_type": "execute_result"
    }
   ],
   "source": [
    "%time clf.predict_proba(X_test)"
   ]
  },
  {
   "cell_type": "code",
   "execution_count": 21,
   "metadata": {},
   "outputs": [
    {
     "name": "stdout",
     "output_type": "stream",
     "text": [
      "CPU times: user 0 ns, sys: 0 ns, total: 0 ns\n",
      "Wall time: 3.94 ms\n"
     ]
    },
    {
     "data": {
      "text/plain": [
       "array([[0.  , 0.85, 0.15],\n",
       "       [0.  , 0.1 , 0.9 ],\n",
       "       [1.  , 0.  , 0.  ],\n",
       "       [0.  , 1.  , 0.  ],\n",
       "       [0.  , 0.05, 0.95],\n",
       "       [0.  , 0.75, 0.25],\n",
       "       [1.  , 0.  , 0.  ],\n",
       "       [0.  , 1.  , 0.  ],\n",
       "       [0.  , 0.1 , 0.9 ],\n",
       "       [1.  , 0.  , 0.  ],\n",
       "       [0.  , 0.85, 0.15],\n",
       "       [1.  , 0.  , 0.  ],\n",
       "       [0.  , 0.  , 1.  ],\n",
       "       [0.  , 0.  , 1.  ],\n",
       "       [1.  , 0.  , 0.  ]])"
      ]
     },
     "execution_count": 21,
     "metadata": {},
     "output_type": "execute_result"
    }
   ],
   "source": [
    "%time my_clf.predict_proba(X_test)"
   ]
  },
  {
   "cell_type": "code",
   "execution_count": 22,
   "metadata": {},
   "outputs": [],
   "source": [
    "assert abs(my_clf.score(X_test, y_test) - clf.score(X_test,y_test))<0.005, \"Score must be simillar\""
   ]
  },
  {
   "cell_type": "markdown",
   "metadata": {},
   "source": [
    "**Задание 4 (2.5 балла)**\n",
    "\n",
    "Рассмотрим новый датасет 20 newsgroups"
   ]
  },
  {
   "cell_type": "code",
   "execution_count": 23,
   "metadata": {},
   "outputs": [],
   "source": [
    "newsgroups = fetch_20newsgroups(subset='train',remove=['headers','footers', 'quotes'])"
   ]
  },
  {
   "cell_type": "code",
   "execution_count": 24,
   "metadata": {},
   "outputs": [],
   "source": [
    "data = newsgroups['data']\n",
    "target = newsgroups['target']"
   ]
  },
  {
   "cell_type": "markdown",
   "metadata": {},
   "source": [
    "Переведите во всех документах все буквы в нижний регистр и замените во всех документах символы, не\n",
    "являющиеся буквами и цифрами, на пробелы. Далее разбейте текста по пробельным символам на токены(термы/слова). Удалите текста, содержащие только пробелы."
   ]
  },
  {
   "cell_type": "code",
   "execution_count": 25,
   "metadata": {},
   "outputs": [],
   "source": [
    "def make_correct(data, target):\n",
    "    data_ans = []\n",
    "    target_ans = []\n",
    "    target_res = target\n",
    "    for j, i in enumerate(data):\n",
    "        i = i.lower()\n",
    "        i = re.sub('[^0-9a-z]', ' ', i)\n",
    "        i = i.split()\n",
    "        if i:\n",
    "            data_ans.append(i)\n",
    "            target_ans.append(j)\n",
    "        np.delete(target_res, target_ans)\n",
    "    return data_ans, target_res\n",
    "#make_correct(data)"
   ]
  },
  {
   "cell_type": "code",
   "execution_count": 61,
   "metadata": {},
   "outputs": [],
   "source": [
    "data_tok, target_tok = make_correct(data, target)\n",
    "# data_tok should be a list of lists of tokens for each line in data."
   ]
  },
  {
   "cell_type": "code",
   "execution_count": 62,
   "metadata": {},
   "outputs": [],
   "source": [
    "assert all(isinstance(row, (list, tuple)) for row in data_tok), \"please convert each line into a list of tokens (strings)\"\n",
    "assert all(all(isinstance(tok, str) for tok in row) for row in data_tok), \"please convert each line into a list of tokens (strings)\"\n",
    "is_latin = lambda tok: all('a' <= x.lower() <= 'z' for x in tok)\n",
    "assert all(map(lambda l: not is_latin(l) or l.islower() , map(' '.join, data_tok))), \"please make sure that you lowercase the data and drop spaced texts\""
   ]
  },
  {
   "cell_type": "markdown",
   "metadata": {},
   "source": [
    "Преобразуйте датасет в разреженную матрицу scipy.sparse.csr_matrix, где значение x в позиции (i, j)\n",
    "означает, что в документе i слово j встретилось x раз"
   ]
  },
  {
   "cell_type": "code",
   "execution_count": 27,
   "metadata": {},
   "outputs": [],
   "source": [
    "def for_vect(data, target):\n",
    "    data_ans = []\n",
    "    target_ans = []\n",
    "    target_res = target\n",
    "    for j, i in enumerate(data):\n",
    "        i = i.lower()\n",
    "        i = re.sub('[^0-9a-z]', ' ', i)\n",
    "        if i != '' and i.isspace()==False:\n",
    "            data_ans.append(i)\n",
    "            target_ans.append(j)\n",
    "        np.delete(target_res, target_ans)\n",
    "    return data_ans, target_res"
   ]
  },
  {
   "cell_type": "code",
   "execution_count": 53,
   "metadata": {},
   "outputs": [],
   "source": [
    "vectorizer = CountVectorizer(min_df=4000)\n",
    "data_vect, target_vect = for_vect(data, target)\n",
    "vectorizer.fit(data_vect)\n",
    "sp = vectorizer.transform(data_vect)\n",
    "#tf = TfidfTransformer()\n",
    "#sp = tf.transform(sp, target_vect)\n",
    "sp = sp.todense()\n",
    "sp = np.array(sp)\n",
    "target_vect = np.array(target_vect)"
   ]
  },
  {
   "cell_type": "code",
   "execution_count": 46,
   "metadata": {},
   "outputs": [
    {
     "data": {
      "text/plain": [
       "(11004, 20)"
      ]
     },
     "execution_count": 46,
     "metadata": {},
     "output_type": "execute_result"
    }
   ],
   "source": [
    "sp.shape"
   ]
  },
  {
   "cell_type": "markdown",
   "metadata": {},
   "source": [
    "*Так мы получили векторное представление наших текстов. Значит можно приступать к задаче обучения модели*"
   ]
  },
  {
   "cell_type": "markdown",
   "metadata": {},
   "source": [
    "Реализуйте разбиение выборки для кросс-валидации на 3 фолдах. Разрешено использовать sklearn.cross_validation"
   ]
  },
  {
   "cell_type": "code",
   "execution_count": 33,
   "metadata": {},
   "outputs": [],
   "source": [
    "from sklearn.model_selection import RepeatedKFold\n",
    "rkf = RepeatedKFold(n_splits=3, n_repeats=20)\n",
    "split = rkf.split(sp)"
   ]
  },
  {
   "cell_type": "markdown",
   "metadata": {},
   "source": [
    "Напишите метод, позволяющий найти оптимальное количество ближайших соседей(дающее максимальный score в среднем на валидации на 3 фолдах).\n",
    "Постройте график зависимости среднего score от количества соседей. Можно рассмотреть число соседей от 1 до 10."
   ]
  },
  {
   "cell_type": "code",
   "execution_count": 36,
   "metadata": {},
   "outputs": [
    {
     "name": "stdout",
     "output_type": "stream",
     "text": [
      "k = 1, score = 0.05288985823336969\n",
      "k = 2, score = 0.05234460196292257\n",
      "k = 3, score = 0.052708106143220655\n",
      "k = 4, score = 0.05461650308978553\n",
      "k = 5, score = 0.050072700836059615\n",
      "k = 6, score = 0.0499818247909851\n",
      "k = 7, score = 0.050072700836059615\n",
      "k = 8, score = 0.05470737913486005\n",
      "k = 9, score = 0.050708833151581235\n",
      "k = 10, score = 0.049890948745910574\n",
      "[0.05288985823336969, 0.05234460196292257, 0.052708106143220655, 0.05461650308978553, 0.050072700836059615, 0.0499818247909851, 0.050072700836059615, 0.05470737913486005, 0.050708833151581235, 0.049890948745910574]\n"
     ]
    }
   ],
   "source": [
    "k_list = list()\n",
    "for i in range(0, 10):\n",
    "    my_clf_tmp = MyKNeighborsClassifier(n_neighbors=i+2, algorithm='brute')\n",
    "    ans = 0\n",
    "    cnt = 0\n",
    "    #print('!!')\n",
    "    for train_index, test_index in split:\n",
    "        #print('!')\n",
    "        my_clf_tmp.fit(sp[train_index], target_vect[train_index])\n",
    "        ans=ans + my_clf_tmp.score(sp[test_index], target_vect[test_index])\n",
    "        cnt=cnt + 1\n",
    "        if cnt==3:\n",
    "            break\n",
    "    k_list.append(ans/cnt)\n",
    "    print(\"k = {0}, score = {1}\".format(i + 1, ans/cnt))\n",
    "print(k_list)        \n",
    "#и не ясно почему"
   ]
  },
  {
   "cell_type": "code",
   "execution_count": 40,
   "metadata": {},
   "outputs": [
    {
     "data": {
      "image/png": "[encoded data removed]",
      "text/plain": [
       "<Figure size 432x288 with 1 Axes>"
      ]
     },
     "metadata": {
      "needs_background": "light"
     },
     "output_type": "display_data"
    }
   ],
   "source": [
    "ax = plt.plot(range(1, 11), k_list, linewidth=4)\n",
    "plt.show()"
   ]
  },
  {
   "cell_type": "markdown",
   "metadata": {},
   "source": [
    "Как изменится качество на валидации, если:\n",
    "\n",
    "1. Используется косинусная метрика вместо евклидовой.\n",
    "2. К текстам применяется TfIdf преобразование( sklearn.feature_extraction.text.TfidfTransformer)\n",
    "\n",
    "Сравните модели, выберите лучшую."
   ]
  },
  {
   "cell_type": "markdown",
   "metadata": {},
   "source": [
    "Загрузим  теперь test  часть нашей выборки и преобразуем её аналогично с train частью. Не забудьте, что наборы слов в train и test части могут отличаться."
   ]
  },
  {
   "cell_type": "code",
   "execution_count": 41,
   "metadata": {},
   "outputs": [],
   "source": [
    "newsgroups = fetch_20newsgroups(subset='test',remove=['headers','footers', 'quotes'])"
   ]
  },
  {
   "cell_type": "markdown",
   "metadata": {},
   "source": [
    "Оценим качество(score) вашей лучшей модели на test части датасета. Отличается ли оно от кросс-валидации? Попробуйте сделать выводы, почему отличается качество."
   ]
  },
  {
   "cell_type": "code",
   "execution_count": 59,
   "metadata": {},
   "outputs": [],
   "source": [
    "data = newsgroups['data']\n",
    "target = newsgroups['target']\n",
    "def make_correct(data, target):\n",
    "    data_ans = []\n",
    "    target_ans = []\n",
    "    target_res = target\n",
    "    for j, i in enumerate(data):\n",
    "        i = i.lower()\n",
    "        i = re.sub('[^0-9a-z]', ' ', i)\n",
    "        i = i.split()\n",
    "        if i:\n",
    "            data_ans.append(i)\n",
    "            target_ans.append(j)\n",
    "        np.delete(target_res, target_ans)\n",
    "    return data_ans, target_res\n",
    "data_tok, target_tok = make_correct(data, target)\n",
    "def for_vect(data, target):\n",
    "    data_ans = []\n",
    "    target_ans = []\n",
    "    target_res = target\n",
    "    for j, i in enumerate(data):\n",
    "        i = i.lower()\n",
    "        i = re.sub('[^0-9a-z]', ' ', i)\n",
    "        if i != '' and i.isspace()==False:\n",
    "            data_ans.append(i)\n",
    "            target_ans.append(j)\n",
    "        target_res = target[target_ans]\n",
    "        #np.delete(target_res, target_ans)\n",
    "    return data_ans, target_res\n",
    "data_vect1, target_vect1 = for_vect(data, target)\n",
    "sp1 = vectorizer.transform(data_vect1)\n",
    "sp1 = sp1.todense()\n",
    "sp1 = np.array(sp1)\n",
    "target_vect1 = np.array(target_vect1)"
   ]
  },
  {
   "cell_type": "code",
   "execution_count": 60,
   "metadata": {},
   "outputs": [
    {
     "name": "stdout",
     "output_type": "stream",
     "text": [
      "0.05404296073334246\n"
     ]
    }
   ],
   "source": [
    "my_clf_tmp = MyKNeighborsClassifier(n_neighbors=(np.argmax(rnd)+1),algorithm='brute')\n",
    "my_clf_tmp.fit(sp, target_vect)\n",
    "print(my_clf_tmp.score(sp1, target_vect1))"
   ]
  },
  {
   "cell_type": "code",
   "execution_count": null,
   "metadata": {},
   "outputs": [],
   "source": []
  }
 ],
 "metadata": {
  "celltoolbar": "Raw Cell Format",
  "kernelspec": {
   "display_name": "Python 3",
   "language": "python",
   "name": "python3"
  },
  "language_info": {
   "codemirror_mode": {
    "name": "ipython",
    "version": 3
   },
   "file_extension": ".py",
   "mimetype": "text/x-python",
   "name": "python",
   "nbconvert_exporter": "python",
   "pygments_lexer": "ipython3",
   "version": "3.7.3"
  }
 },
 "nbformat": 4,
 "nbformat_minor": 2
}
